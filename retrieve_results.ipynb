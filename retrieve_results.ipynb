{
 "cells": [
  {
   "cell_type": "code",
   "execution_count": null,
   "metadata": {},
   "outputs": [],
   "source": [
    "import pandas as pd\n",
    "import csv\n",
    "import torch\n",
    "from transformers import BertTokenizer\n",
    "from tqdm.notebook import tqdm\n",
    "\n",
    "# read csv\n",
    "path = \"Listing_Titles.tsv\"\n",
    "df = pd.read_csv(path, sep=\"\\t\", dtype=str, keep_default_na=False, na_values=[\"\"], quoting=csv.QUOTE_NONE)\n",
    "df[\"Record Number\"] = df[\"Record Number\"].astype(int)\n",
    "\n",
    "# read training csv\n",
    "train_path = \"Train_Tagged_Titles.tsv\"\n",
    "train_df = pd.read_csv(train_path, sep=\"\\t\", dtype=str, keep_default_na=False, na_values=[\"\"], quoting=csv.QUOTE_NONE)\n",
    "\n",
    "# maps of labels and ids\n",
    "labels2id = {train_df['Tag'].unique()[i - 1]: i for i in range(1, len(train_df['Tag'].unique()) + 1)}\n",
    "id2labels = {labels2id[i]: i for i in labels2id}\n",
    "\n",
    "# import model and tokenizer\n",
    "model = ...\n",
    "tokenizer = BertTokenizer.from_pretrained('bert-base-german-cased')"
   ]
  },
  {
   "cell_type": "code",
   "execution_count": null,
   "metadata": {},
   "outputs": [],
   "source": [
    "# function to retrieve results from each listing title\n",
    "def retrieve_results(tokenizer, text):\n",
    "    encoding = tokenizer(text, return_tensors='pt')\n",
    "    outputs = model(**encoding)\n",
    "    logits = outputs.logits\n",
    "    # print(logits.shape)\n",
    "    predicted_label_classes = logits.argmax(-1)\n",
    "    # print(predicted_label_classes)\n",
    "    predicted_labels = [model.config.id2labels[id] for id in predicted_label_classes.squeeze().tolist()]\n",
    "    # print(predicted_labels)\n",
    "    tokens = [tokenizer.decode([id]) for id in encoding.input_ids.squeeze().tolist()]\n",
    "    # print tokens\n",
    "    return predicted_labels, tokens"
   ]
  },
  {
   "cell_type": "code",
   "execution_count": null,
   "metadata": {},
   "outputs": [],
   "source": [
    "# submission dataframe\n",
    "df_submission = pd.DataFrame()\n",
    "record_numbers = []\n",
    "aspect_names = []\n",
    "aspect_values = []\n",
    "\n",
    "for i in range(5000, 30000):\n",
    "        title = df.iat[i,1]\n",
    "        labels, values = retrieve_results(tokenizer, title)\n",
    "        # record number\n",
    "        number = i+1\n",
    "        numbers = [number for label in labels]\n",
    "        record_numbers.extend(numbers)\n",
    "        aspect_names.extend(labels)\n",
    "        aspect_values.extend(values)\n",
    "\n",
    "# save results to pandas df\n",
    "df_submission = pd.DataFrame()\n",
    "df_submission['Record Number'] = record_numbers\n",
    "df_submission['Aspect Name'] = aspect_names\n",
    "df_submission['Aspect Value'] = aspect_values"
   ]
  },
  {
   "cell_type": "code",
   "execution_count": null,
   "metadata": {},
   "outputs": [],
   "source": [
    "# combine duplicate adjacent labels\n",
    "recNum = None\n",
    "prevName = None\n",
    "lastI = None\n",
    "combineToken = []\n",
    "for i in range(len(df_submission)):\n",
    "    num = int(df_submission.iat[i, 0])\n",
    "    name = str(df_submission.iat[i, 1])\n",
    "    val = str(df_submission.iat[i,2])\n",
    "    if num == recNum and name == prevName:\n",
    "        combineToken.append(val)\n",
    "        df_submission.iat[i,2] = 'drop'\n",
    "    else:\n",
    "        if len(combineToken) > 0:\n",
    "            combineToken.insert(0, str(df_submission.iat[lastI, 2]))\n",
    "            df_submission.iat[lastI, 2] = \" \".join(combineToken)\n",
    "            combineToken = []\n",
    "        prevName = name\n",
    "        recNum = num\n",
    "        lastI = i\n",
    "\n",
    "df_submission['Aspect Value'] = df_submission['Aspect Value'].astype(str)\n",
    "df_submission['Aspect Name'] = df_submission['Aspect Name'].astype(str)\n",
    "df_submission = df_submission[df_submission['Aspect Value']!='drop']\n",
    "# df_submission"
   ]
  },
  {
   "cell_type": "code",
   "execution_count": null,
   "metadata": {},
   "outputs": [],
   "source": [
    "# get rid of values labeled 'obscure' and 'no tag'\n",
    "df_submission = df_submission[df_submission['Aspect Name'] != 'Obscure']\n",
    "df_submission = df_submission[df_submission['Aspect Name'] != 'No Tag']"
   ]
  },
  {
   "cell_type": "code",
   "execution_count": null,
   "metadata": {},
   "outputs": [],
   "source": [
    "# save in submission format\n",
    "df_submission.to_csv(\"results.tsv\", sep=\"\\t\", encoding='utf-8', header=False, index=False)"
   ]
  }
 ],
 "metadata": {
  "language_info": {
   "name": "python"
  }
 },
 "nbformat": 4,
 "nbformat_minor": 2
}
