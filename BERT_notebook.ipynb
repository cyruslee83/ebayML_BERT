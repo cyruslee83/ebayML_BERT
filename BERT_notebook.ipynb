{
 "cells": [
  {
   "cell_type": "code",
   "execution_count": 72,
   "metadata": {},
   "outputs": [],
   "source": [
    "import pandas as pd\n",
    "import csv\n",
    "from sklearn.preprocessing import LabelEncoder\n",
    "from sklearn.model_selection import train_test_split\n",
    "from sklearn.metrics import accuracy_score\n",
    "import numpy as np\n",
    "# from simpletransformers.ner import NERModel, NERArgs\n"
   ]
  },
  {
   "cell_type": "code",
   "execution_count": 73,
   "metadata": {},
   "outputs": [
    {
     "data": {
      "text/html": [
       "<div>\n",
       "<style scoped>\n",
       "    .dataframe tbody tr th:only-of-type {\n",
       "        vertical-align: middle;\n",
       "    }\n",
       "\n",
       "    .dataframe tbody tr th {\n",
       "        vertical-align: top;\n",
       "    }\n",
       "\n",
       "    .dataframe thead th {\n",
       "        text-align: right;\n",
       "    }\n",
       "</style>\n",
       "<table border=\"1\" class=\"dataframe\">\n",
       "  <thead>\n",
       "    <tr style=\"text-align: right;\">\n",
       "      <th></th>\n",
       "      <th>Record Number</th>\n",
       "      <th>Title</th>\n",
       "      <th>Token</th>\n",
       "      <th>Tag</th>\n",
       "    </tr>\n",
       "  </thead>\n",
       "  <tbody>\n",
       "    <tr>\n",
       "      <th>0</th>\n",
       "      <td>1</td>\n",
       "      <td>Supreme Nike SB Dunk High By any Means Red US1...</td>\n",
       "      <td>Supreme</td>\n",
       "      <td>Modell</td>\n",
       "    </tr>\n",
       "    <tr>\n",
       "      <th>1</th>\n",
       "      <td>1</td>\n",
       "      <td>Supreme Nike SB Dunk High By any Means Red US1...</td>\n",
       "      <td>Nike</td>\n",
       "      <td>Marke</td>\n",
       "    </tr>\n",
       "    <tr>\n",
       "      <th>2</th>\n",
       "      <td>1</td>\n",
       "      <td>Supreme Nike SB Dunk High By any Means Red US1...</td>\n",
       "      <td>SB</td>\n",
       "      <td>Produktlinie</td>\n",
       "    </tr>\n",
       "    <tr>\n",
       "      <th>3</th>\n",
       "      <td>1</td>\n",
       "      <td>Supreme Nike SB Dunk High By any Means Red US1...</td>\n",
       "      <td>Dunk</td>\n",
       "      <td>NaN</td>\n",
       "    </tr>\n",
       "    <tr>\n",
       "      <th>4</th>\n",
       "      <td>1</td>\n",
       "      <td>Supreme Nike SB Dunk High By any Means Red US1...</td>\n",
       "      <td>High</td>\n",
       "      <td>Schuhschaft-Typ</td>\n",
       "    </tr>\n",
       "    <tr>\n",
       "      <th>...</th>\n",
       "      <td>...</td>\n",
       "      <td>...</td>\n",
       "      <td>...</td>\n",
       "      <td>...</td>\n",
       "    </tr>\n",
       "    <tr>\n",
       "      <th>55178</th>\n",
       "      <td>5000</td>\n",
       "      <td>Herren Trekking Schuhe Outdoor Sneaker Sportsc...</td>\n",
       "      <td>Sportschuhe</td>\n",
       "      <td>Produktart</td>\n",
       "    </tr>\n",
       "    <tr>\n",
       "      <th>55179</th>\n",
       "      <td>5000</td>\n",
       "      <td>Herren Trekking Schuhe Outdoor Sneaker Sportsc...</td>\n",
       "      <td>Wanderschuh</td>\n",
       "      <td>NaN</td>\n",
       "    </tr>\n",
       "    <tr>\n",
       "      <th>55180</th>\n",
       "      <td>5000</td>\n",
       "      <td>Herren Trekking Schuhe Outdoor Sneaker Sportsc...</td>\n",
       "      <td>Big</td>\n",
       "      <td>No Tag</td>\n",
       "    </tr>\n",
       "    <tr>\n",
       "      <th>55181</th>\n",
       "      <td>5000</td>\n",
       "      <td>Herren Trekking Schuhe Outdoor Sneaker Sportsc...</td>\n",
       "      <td>Size</td>\n",
       "      <td>No Tag</td>\n",
       "    </tr>\n",
       "    <tr>\n",
       "      <th>55182</th>\n",
       "      <td>5000</td>\n",
       "      <td>Herren Trekking Schuhe Outdoor Sneaker Sportsc...</td>\n",
       "      <td>U37</td>\n",
       "      <td>No Tag</td>\n",
       "    </tr>\n",
       "  </tbody>\n",
       "</table>\n",
       "<p>55183 rows × 4 columns</p>\n",
       "</div>"
      ],
      "text/plain": [
       "       Record Number                                              Title  \\\n",
       "0                  1  Supreme Nike SB Dunk High By any Means Red US1...   \n",
       "1                  1  Supreme Nike SB Dunk High By any Means Red US1...   \n",
       "2                  1  Supreme Nike SB Dunk High By any Means Red US1...   \n",
       "3                  1  Supreme Nike SB Dunk High By any Means Red US1...   \n",
       "4                  1  Supreme Nike SB Dunk High By any Means Red US1...   \n",
       "...              ...                                                ...   \n",
       "55178           5000  Herren Trekking Schuhe Outdoor Sneaker Sportsc...   \n",
       "55179           5000  Herren Trekking Schuhe Outdoor Sneaker Sportsc...   \n",
       "55180           5000  Herren Trekking Schuhe Outdoor Sneaker Sportsc...   \n",
       "55181           5000  Herren Trekking Schuhe Outdoor Sneaker Sportsc...   \n",
       "55182           5000  Herren Trekking Schuhe Outdoor Sneaker Sportsc...   \n",
       "\n",
       "             Token              Tag  \n",
       "0          Supreme           Modell  \n",
       "1             Nike            Marke  \n",
       "2               SB     Produktlinie  \n",
       "3             Dunk              NaN  \n",
       "4             High  Schuhschaft-Typ  \n",
       "...            ...              ...  \n",
       "55178  Sportschuhe       Produktart  \n",
       "55179  Wanderschuh              NaN  \n",
       "55180          Big           No Tag  \n",
       "55181         Size           No Tag  \n",
       "55182          U37           No Tag  \n",
       "\n",
       "[55183 rows x 4 columns]"
      ]
     },
     "execution_count": 73,
     "metadata": {},
     "output_type": "execute_result"
    }
   ],
   "source": [
    "# read into dataframe\n",
    "path = \"/Users/cyrus/Desktop/2023 eBay ML Challenge Data/Train_Tagged_Titles.tsv\"\n",
    "df = pd.read_csv(path, sep=\"\\t\", dtype=str, keep_default_na=False, na_values=[\"\"], quoting=csv.QUOTE_NONE)\n",
    "df[\"Record Number\"] = df[\"Record Number\"].astype(int)\n",
    "# train_df = df[df[\"labels\"]!=\"np.NaN\"]\n",
    "df"
   ]
  },
  {
   "cell_type": "code",
   "execution_count": 45,
   "metadata": {},
   "outputs": [],
   "source": [
    "# # combine NaN tokens (\"New\", \"Balance\" --> \"New Balance\")\n",
    "# prev_val = None\n",
    "# max = len(df[df[\"Record Number\"]<=5000])\n",
    "# for i in reversed(range(0,max)):\n",
    "#     dftemp = df.iloc[i]\n",
    "#     token = dftemp.iat[2]\n",
    "#     tag = dftemp.iat[3]\n",
    "\n",
    "#     # check if tag is None\n",
    "#     if tag is np.NaN:\n",
    "#         if prev_val is None:\n",
    "#             prev_val = []\n",
    "#         prev_val.insert(0, token)\n",
    "#         df.iat[i,3] = \"drop\"\n",
    "#     else:\n",
    "#         if prev_val is not None:\n",
    "#             prev_val.insert(0, token)\n",
    "#             df.iat[i, 2] = \" \".join(prev_val)\n",
    "#             prev_val = None\n",
    "\n",
    "# df = df[df[\"Tag\"] != \"drop\"]\n",
    "# df"
   ]
  },
  {
   "cell_type": "code",
   "execution_count": 74,
   "metadata": {},
   "outputs": [
    {
     "data": {
      "text/html": [
       "<div>\n",
       "<style scoped>\n",
       "    .dataframe tbody tr th:only-of-type {\n",
       "        vertical-align: middle;\n",
       "    }\n",
       "\n",
       "    .dataframe tbody tr th {\n",
       "        vertical-align: top;\n",
       "    }\n",
       "\n",
       "    .dataframe thead th {\n",
       "        text-align: right;\n",
       "    }\n",
       "</style>\n",
       "<table border=\"1\" class=\"dataframe\">\n",
       "  <thead>\n",
       "    <tr style=\"text-align: right;\">\n",
       "      <th></th>\n",
       "      <th>Title</th>\n",
       "      <th>Tags</th>\n",
       "    </tr>\n",
       "  </thead>\n",
       "  <tbody>\n",
       "    <tr>\n",
       "      <th>0</th>\n",
       "      <td>Supreme Nike SB Dunk High By any Means Red US1...</td>\n",
       "      <td>[Modell, Marke, Produktlinie, Produktlinie, Sc...</td>\n",
       "    </tr>\n",
       "    <tr>\n",
       "      <th>1</th>\n",
       "      <td>New Balance 530 Männer und Frauen Laufschuhe m...</td>\n",
       "      <td>[Marke, Marke, Modell, Abteilung, No Tag, Abte...</td>\n",
       "    </tr>\n",
       "    <tr>\n",
       "      <th>2</th>\n",
       "      <td>♥ MICHAEL KORS Sneaker Gr 39 ♥</td>\n",
       "      <td>[No Tag, Marke, Marke, Stil, No Tag, EU-Schuhg...</td>\n",
       "    </tr>\n",
       "    <tr>\n",
       "      <th>3</th>\n",
       "      <td>New Balance ML 574 EGO Turnschuhe grün</td>\n",
       "      <td>[Marke, Marke, Modell, Modell, Modell, Produkt...</td>\n",
       "    </tr>\n",
       "    <tr>\n",
       "      <th>4</th>\n",
       "      <td>Nike air jordan 9 og , space jam , hare , bugs...</td>\n",
       "      <td>[Marke, Produktlinie, Produktlinie, Modell, Mo...</td>\n",
       "    </tr>\n",
       "    <tr>\n",
       "      <th>...</th>\n",
       "      <td>...</td>\n",
       "      <td>...</td>\n",
       "    </tr>\n",
       "    <tr>\n",
       "      <th>4995</th>\n",
       "      <td>Adidas Raf Simons Sneakers</td>\n",
       "      <td>[Marke, Produktlinie, Produktlinie, Stil]</td>\n",
       "    </tr>\n",
       "    <tr>\n",
       "      <th>4996</th>\n",
       "      <td>Ludwig Reiter Andalusier , Nubuk navy Schuhe D...</td>\n",
       "      <td>[Marke, Marke, Modell, No Tag, Obermaterial, F...</td>\n",
       "    </tr>\n",
       "    <tr>\n",
       "      <th>4997</th>\n",
       "      <td>Adidas Superstar Laceless / Adidas Originals /...</td>\n",
       "      <td>[Marke, Produktlinie, Verschluss, No Tag, Mark...</td>\n",
       "    </tr>\n",
       "    <tr>\n",
       "      <th>4998</th>\n",
       "      <td>HUGO BOSS Herren Schuhe Schnürschuhe Sneaker V...</td>\n",
       "      <td>[Marke, Marke, Abteilung, Produktart, Produkta...</td>\n",
       "    </tr>\n",
       "    <tr>\n",
       "      <th>4999</th>\n",
       "      <td>Herren Trekking Schuhe Outdoor Sneaker Sportsc...</td>\n",
       "      <td>[Abteilung, Aktivität, Produktart, Anlass, Sti...</td>\n",
       "    </tr>\n",
       "  </tbody>\n",
       "</table>\n",
       "<p>5000 rows × 2 columns</p>\n",
       "</div>"
      ],
      "text/plain": [
       "                                                  Title  \\\n",
       "0     Supreme Nike SB Dunk High By any Means Red US1...   \n",
       "1     New Balance 530 Männer und Frauen Laufschuhe m...   \n",
       "2                        ♥ MICHAEL KORS Sneaker Gr 39 ♥   \n",
       "3                New Balance ML 574 EGO Turnschuhe grün   \n",
       "4     Nike air jordan 9 og , space jam , hare , bugs...   \n",
       "...                                                 ...   \n",
       "4995                         Adidas Raf Simons Sneakers   \n",
       "4996  Ludwig Reiter Andalusier , Nubuk navy Schuhe D...   \n",
       "4997  Adidas Superstar Laceless / Adidas Originals /...   \n",
       "4998  HUGO BOSS Herren Schuhe Schnürschuhe Sneaker V...   \n",
       "4999  Herren Trekking Schuhe Outdoor Sneaker Sportsc...   \n",
       "\n",
       "                                                   Tags  \n",
       "0     [Modell, Marke, Produktlinie, Produktlinie, Sc...  \n",
       "1     [Marke, Marke, Modell, Abteilung, No Tag, Abte...  \n",
       "2     [No Tag, Marke, Marke, Stil, No Tag, EU-Schuhg...  \n",
       "3     [Marke, Marke, Modell, Modell, Modell, Produkt...  \n",
       "4     [Marke, Produktlinie, Produktlinie, Modell, Mo...  \n",
       "...                                                 ...  \n",
       "4995          [Marke, Produktlinie, Produktlinie, Stil]  \n",
       "4996  [Marke, Marke, Modell, No Tag, Obermaterial, F...  \n",
       "4997  [Marke, Produktlinie, Verschluss, No Tag, Mark...  \n",
       "4998  [Marke, Marke, Abteilung, Produktart, Produkta...  \n",
       "4999  [Abteilung, Aktivität, Produktart, Anlass, Sti...  \n",
       "\n",
       "[5000 rows x 2 columns]"
      ]
     },
     "execution_count": 74,
     "metadata": {},
     "output_type": "execute_result"
    }
   ],
   "source": [
    "# forward fill NaN values with last valid value\n",
    "df = df.ffill()\n",
    "# combine each sentence_id\n",
    "title = list(df.groupby(\"Record Number\")['Title'].agg('first'))\n",
    "tags = list(df.groupby(\"Record Number\")['Tag'].apply(list))\n",
    "train_df = pd.DataFrame({'Title':title, 'Tags':tags})\n",
    "train_df"
   ]
  },
  {
   "cell_type": "code",
   "execution_count": 42,
   "metadata": {},
   "outputs": [],
   "source": [
    "# df = df.rename(columns={\"Title\": \"title\", \"Record Number\":\"sentence_id\",\"Token\":\"words\",\"Tag\":\"labels\"})\n",
    "# df = df[[\"title\",\"words\",\"labels\"]]\n",
    "# df"
   ]
  },
  {
   "cell_type": "code",
   "execution_count": 22,
   "metadata": {},
   "outputs": [],
   "source": [
    "X = df[[\"title\", \"words\"]]\n",
    "Y = df[\"labels\"]"
   ]
  },
  {
   "cell_type": "code",
   "execution_count": 78,
   "metadata": {},
   "outputs": [
    {
     "data": {
      "text/plain": [
       "36"
      ]
     },
     "execution_count": 78,
     "metadata": {},
     "output_type": "execute_result"
    }
   ],
   "source": [
    "labels = df[\"Tag\"].unique()"
   ]
  },
  {
   "cell_type": "code",
   "execution_count": 91,
   "metadata": {},
   "outputs": [
    {
     "data": {
      "text/plain": [
       "28"
      ]
     },
     "execution_count": 91,
     "metadata": {},
     "output_type": "execute_result"
    }
   ],
   "source": [
    "lengths = train_df['Tags'].apply(len)\n",
    "lengths.max()"
   ]
  },
  {
   "cell_type": "code",
   "execution_count": 8,
   "metadata": {},
   "outputs": [],
   "source": [
    "train_data = pd.DataFrame({\"sentence_id\":X[\"sentence_id\"], \"words\":X[\"words\"], \"labels\":Y})\n",
    "# train_data"
   ]
  },
  {
   "cell_type": "code",
   "execution_count": 9,
   "metadata": {},
   "outputs": [
    {
     "ename": "NameError",
     "evalue": "name 'NERArgs' is not defined",
     "output_type": "error",
     "traceback": [
      "\u001b[0;31m---------------------------------------------------------------------------\u001b[0m",
      "\u001b[0;31mNameError\u001b[0m                                 Traceback (most recent call last)",
      "\u001b[1;32m/Users/cyrus/Desktop/eBay/BERT/BERT_notebook.ipynb Cell 8\u001b[0m line \u001b[0;36m1\n\u001b[0;32m----> <a href='vscode-notebook-cell:/Users/cyrus/Desktop/eBay/BERT/BERT_notebook.ipynb#X10sZmlsZQ%3D%3D?line=0'>1</a>\u001b[0m args \u001b[39m=\u001b[39m NERArgs()\n\u001b[1;32m      <a href='vscode-notebook-cell:/Users/cyrus/Desktop/eBay/BERT/BERT_notebook.ipynb#X10sZmlsZQ%3D%3D?line=1'>2</a>\u001b[0m args\u001b[39m.\u001b[39mnum_train_epochs \u001b[39m=\u001b[39m \u001b[39m1\u001b[39m\n\u001b[1;32m      <a href='vscode-notebook-cell:/Users/cyrus/Desktop/eBay/BERT/BERT_notebook.ipynb#X10sZmlsZQ%3D%3D?line=2'>3</a>\u001b[0m args\u001b[39m.\u001b[39mlearning_rate \u001b[39m=\u001b[39m \u001b[39m0.001\u001b[39m\n",
      "\u001b[0;31mNameError\u001b[0m: name 'NERArgs' is not defined"
     ]
    }
   ],
   "source": [
    "args = NERArgs()\n",
    "args.num_train_epochs = 1\n",
    "args.learning_rate = 0.001\n",
    "args.overwrite_output_dir = True\n",
    "args.train_batch_size = 100\n",
    "args.eval_batch_size = 100"
   ]
  },
  {
   "cell_type": "code",
   "execution_count": null,
   "metadata": {},
   "outputs": [
    {
     "name": "stderr",
     "output_type": "stream",
     "text": [
      "Some weights of the model checkpoint at dbmdz/bert-base-german-uncased were not used when initializing BertForTokenClassification: ['cls.predictions.decoder.weight', 'cls.seq_relationship.weight', 'cls.predictions.bias', 'cls.predictions.transform.dense.bias', 'cls.predictions.transform.LayerNorm.bias', 'cls.predictions.transform.LayerNorm.weight', 'cls.predictions.transform.dense.weight', 'cls.seq_relationship.bias']\n",
      "- This IS expected if you are initializing BertForTokenClassification from the checkpoint of a model trained on another task or with another architecture (e.g. initializing a BertForSequenceClassification model from a BertForPreTraining model).\n",
      "- This IS NOT expected if you are initializing BertForTokenClassification from the checkpoint of a model that you expect to be exactly identical (initializing a BertForSequenceClassification model from a BertForSequenceClassification model).\n",
      "Some weights of BertForTokenClassification were not initialized from the model checkpoint at dbmdz/bert-base-german-uncased and are newly initialized: ['classifier.weight', 'classifier.bias']\n",
      "You should probably TRAIN this model on a down-stream task to be able to use it for predictions and inference.\n"
     ]
    }
   ],
   "source": [
    "model = NERModel('bert', 'dbmdz/bert-base-german-uncased',labels=labels,args=args, use_cuda=False)"
   ]
  },
  {
   "cell_type": "code",
   "execution_count": null,
   "metadata": {},
   "outputs": [
    {
     "name": "stderr",
     "output_type": "stream",
     "text": [
      "/Users/cyrus/miniforge3/envs/moon/lib/python3.10/site-packages/simpletransformers/ner/ner_utils.py:190: FutureWarning: In a future version of pandas, a length 1 tuple will be returned when iterating over a groupby with a grouper equal to a list of length 1. Don't supply a list with a single grouper to avoid this warning.\n",
      "  return [\n"
     ]
    },
    {
     "data": {
      "application/vnd.jupyter.widget-view+json": {
       "model_id": "17fdcc6b35f34672b5f750204235f3d8",
       "version_major": 2,
       "version_minor": 0
      },
      "text/plain": [
       "  0%|          | 0/10 [00:00<?, ?it/s]"
      ]
     },
     "metadata": {},
     "output_type": "display_data"
    },
    {
     "data": {
      "application/vnd.jupyter.widget-view+json": {
       "model_id": "0a760f49acc840e788f858b1cfe4015b",
       "version_major": 2,
       "version_minor": 0
      },
      "text/plain": [
       "Epoch:   0%|          | 0/1 [00:00<?, ?it/s]"
      ]
     },
     "metadata": {},
     "output_type": "display_data"
    },
    {
     "data": {
      "application/vnd.jupyter.widget-view+json": {
       "model_id": "ebd7810877694964ba40c89e31982632",
       "version_major": 2,
       "version_minor": 0
      },
      "text/plain": [
       "Running Epoch 0 of 1:   0%|          | 0/50 [00:00<?, ?it/s]"
      ]
     },
     "metadata": {},
     "output_type": "display_data"
    },
    {
     "data": {
      "text/plain": [
       "(50, 2.7124241256713866)"
      ]
     },
     "execution_count": 38,
     "metadata": {},
     "output_type": "execute_result"
    }
   ],
   "source": [
    "model.train_model(train_data, eval_data=df, acc=accuracy_score)"
   ]
  },
  {
   "cell_type": "code",
   "execution_count": null,
   "metadata": {},
   "outputs": [],
   "source": [
    "model.model.save_pretrained('bert_model')\n",
    "model.tokenizer.save_pretrained('bert_model')\n",
    "model.config.save_pretrained('bert_model')"
   ]
  },
  {
   "cell_type": "code",
   "execution_count": null,
   "metadata": {},
   "outputs": [
    {
     "name": "stderr",
     "output_type": "stream",
     "text": [
      "/Users/cyrus/miniforge3/envs/moon/lib/python3.10/site-packages/simpletransformers/ner/ner_utils.py:190: FutureWarning: In a future version of pandas, a length 1 tuple will be returned when iterating over a groupby with a grouper equal to a list of length 1. Don't supply a list with a single grouper to avoid this warning.\n",
      "  return [\n"
     ]
    },
    {
     "data": {
      "application/vnd.jupyter.widget-view+json": {
       "model_id": "3edd1fd5eadd421295db0cb5a72bc919",
       "version_major": 2,
       "version_minor": 0
      },
      "text/plain": [
       "  0%|          | 0/10 [00:00<?, ?it/s]"
      ]
     },
     "metadata": {},
     "output_type": "display_data"
    },
    {
     "data": {
      "application/vnd.jupyter.widget-view+json": {
       "model_id": "62c0ed1fa6d240e094e5783eae9e788a",
       "version_major": 2,
       "version_minor": 0
      },
      "text/plain": [
       "Running Evaluation:   0%|          | 0/50 [00:00<?, ?it/s]"
      ]
     },
     "metadata": {},
     "output_type": "display_data"
    }
   ],
   "source": [
    "result, model_outputs, preds_list = model.eval_model(df)"
   ]
  },
  {
   "cell_type": "code",
   "execution_count": null,
   "metadata": {},
   "outputs": [
    {
     "data": {
      "text/plain": [
       "{'eval_loss': 2.5846244884490965,\n",
       " 'precision': 0.0,\n",
       " 'recall': 0.0,\n",
       " 'f1_score': 0.0}"
      ]
     },
     "execution_count": 22,
     "metadata": {},
     "output_type": "execute_result"
    }
   ],
   "source": [
    "result"
   ]
  },
  {
   "cell_type": "code",
   "execution_count": null,
   "metadata": {},
   "outputs": [
    {
     "data": {
      "application/vnd.jupyter.widget-view+json": {
       "model_id": "53ed2e6709234e8cae316dbf7133ffda",
       "version_major": 2,
       "version_minor": 0
      },
      "text/plain": [
       "  0%|          | 0/1 [00:00<?, ?it/s]"
      ]
     },
     "metadata": {},
     "output_type": "display_data"
    },
    {
     "data": {
      "application/vnd.jupyter.widget-view+json": {
       "model_id": "c2e5d91b6ffc41b191c671a9fba9cc79",
       "version_major": 2,
       "version_minor": 0
      },
      "text/plain": [
       "Running Prediction:   0%|          | 0/1 [00:00<?, ?it/s]"
      ]
     },
     "metadata": {},
     "output_type": "display_data"
    }
   ],
   "source": [
    "prediction, model_output = model.predict([\"Supreme Nike SB Dunk High By any Means Red US10 EU44 Supreme Box Logo Air Force\"])"
   ]
  },
  {
   "cell_type": "code",
   "execution_count": null,
   "metadata": {},
   "outputs": [
    {
     "data": {
      "text/plain": [
       "[[{'Supreme': 'No Tag'},\n",
       "  {'Nike': 'No Tag'},\n",
       "  {'SB': 'No Tag'},\n",
       "  {'Dunk': 'No Tag'},\n",
       "  {'High': 'No Tag'},\n",
       "  {'By': 'No Tag'},\n",
       "  {'any': 'No Tag'},\n",
       "  {'Means': 'No Tag'},\n",
       "  {'Red': 'No Tag'},\n",
       "  {'US10': 'No Tag'},\n",
       "  {'EU44': 'No Tag'},\n",
       "  {'Supreme': 'No Tag'},\n",
       "  {'Box': 'No Tag'},\n",
       "  {'Logo': 'No Tag'},\n",
       "  {'Air': 'No Tag'},\n",
       "  {'Force': 'No Tag'}]]"
      ]
     },
     "execution_count": 24,
     "metadata": {},
     "output_type": "execute_result"
    }
   ],
   "source": [
    "prediction"
   ]
  },
  {
   "cell_type": "code",
   "execution_count": null,
   "metadata": {},
   "outputs": [
    {
     "data": {
      "application/vnd.jupyter.widget-view+json": {
       "model_id": "d8370029fc694b8d817d74562432d3e2",
       "version_major": 2,
       "version_minor": 0
      },
      "text/plain": [
       "  0%|          | 0/1 [00:00<?, ?it/s]"
      ]
     },
     "metadata": {},
     "output_type": "display_data"
    },
    {
     "data": {
      "application/vnd.jupyter.widget-view+json": {
       "model_id": "b323f2d7138542e9a4b1844f2976547d",
       "version_major": 2,
       "version_minor": 0
      },
      "text/plain": [
       "Running Prediction:   0%|          | 0/1 [00:00<?, ?it/s]"
      ]
     },
     "metadata": {},
     "output_type": "display_data"
    }
   ],
   "source": [
    "prediction, model_output = model.predict([\"♥ MICHAEL KORS Sneaker Gr 39 ♥\"])"
   ]
  },
  {
   "cell_type": "code",
   "execution_count": null,
   "metadata": {},
   "outputs": [
    {
     "data": {
      "text/plain": [
       "[[{'♥': 'No Tag'},\n",
       "  {'MICHAEL': 'No Tag'},\n",
       "  {'KORS': 'No Tag'},\n",
       "  {'Sneaker': 'No Tag'},\n",
       "  {'Gr': 'No Tag'},\n",
       "  {'39': 'No Tag'},\n",
       "  {'♥': 'No Tag'}]]"
      ]
     },
     "execution_count": 26,
     "metadata": {},
     "output_type": "execute_result"
    }
   ],
   "source": [
    "prediction"
   ]
  }
 ],
 "metadata": {
  "kernelspec": {
   "display_name": "Python 3",
   "language": "python",
   "name": "python3"
  },
  "language_info": {
   "codemirror_mode": {
    "name": "ipython",
    "version": 3
   },
   "file_extension": ".py",
   "mimetype": "text/x-python",
   "name": "python",
   "nbconvert_exporter": "python",
   "pygments_lexer": "ipython3",
   "version": "3.11.3"
  },
  "orig_nbformat": 4
 },
 "nbformat": 4,
 "nbformat_minor": 2
}
