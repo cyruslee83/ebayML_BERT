{
 "cells": [
  {
   "cell_type": "code",
   "execution_count": 49,
   "metadata": {},
   "outputs": [],
   "source": [
    "import pandas as pd\n",
    "import csv\n",
    "\n",
    "# check if part of string is subtoken\n",
    "def is_subtoken(word):\n",
    "    if word[:2] == \"##\":\n",
    "        return True\n",
    "    else:\n",
    "        return False\n",
    "\n",
    "\n",
    "# decode tokens by combining subtokens\n",
    "def convert_token(token):\n",
    "    restored_token = []\n",
    "    token_list = token.split(\" \")\n",
    "    for i in range(len(token_list)):\n",
    "        \n",
    "        # check if element is start of value or if separated by '.'\n",
    "        if not is_subtoken(token_list[i]) and (i == 0 or token_list[i] == '.' or token_list[i-1] == '.' or not token_list[i].isalnum() or not token_list[i-1].isalnum()):\n",
    "            restored_token.append(token_list[i])\n",
    "\n",
    "        # check if element is new word in value\n",
    "        elif not is_subtoken(token_list[i]):\n",
    "            restored_token.append(\" \" + token_list[i])\n",
    "\n",
    "        # element is a subtoken\n",
    "        else:\n",
    "            restored_token.append(token_list[i][2:])\n",
    "\n",
    "    # return combined value\n",
    "    return \"\".join(restored_token)  "
   ]
  },
  {
   "cell_type": "code",
   "execution_count": 50,
   "metadata": {},
   "outputs": [],
   "source": [
    "# results_path = 'spacy_results.tsv'\n",
    "# results = pd.read_csv(results_path, sep=\"\\t\", dtype=str, keep_default_na=False, na_values=[\"\"], quoting=csv.QUOTE_NONE)\n",
    "# print(len(results))\n",
    "\n",
    "encoded_results_path = 'encoded_results.tsv'\n",
    "encoded_results = pd.read_csv(encoded_results_path, sep=\"\\t\", dtype=str, keep_default_na=False, na_values=[\"\"], quoting=csv.QUOTE_NONE)\n",
    "# print(len(encoded_results))\n",
    "\n",
    "for i in range(len(encoded_results)):\n",
    "    encoded_results.iat[i,2] = convert_token(encoded_results.iat[i,2])"
   ]
  },
  {
   "cell_type": "code",
   "execution_count": 51,
   "metadata": {},
   "outputs": [
    {
     "name": "stdout",
     "output_type": "stream",
     "text": [
      "159228\n"
     ]
    }
   ],
   "source": [
    "# save results to pandas df\n",
    "df_submission = pd.DataFrame()\n",
    "df_submission['Record Number'] = encoded_results.iloc[:,0]\n",
    "df_submission['Aspect Name'] = encoded_results.iloc[:,1]\n",
    "df_submission['Aspect Value'] = encoded_results.iloc[:,2]\n",
    "df_submission['Aspect Value'] = df_submission['Aspect Value'].astype(str)\n",
    "df_submission['Aspect Name'] = df_submission['Aspect Name'].astype(str)\n",
    "df_submission = df_submission[df_submission['Aspect Name']!='O']\n",
    "df_submission = df_submission[df_submission['Aspect Value']!='[CLS]']\n",
    "df_submission = df_submission[df_submission['Aspect Value']!='[SEP]']\n",
    "print((len(df_submission)))"
   ]
  },
  {
   "cell_type": "code",
   "execution_count": 52,
   "metadata": {},
   "outputs": [],
   "source": [
    "df_submission.to_csv(\"decoded_results.tsv\", sep=\"\\t\", encoding='utf-8', header=False, index=False)"
   ]
  }
 ],
 "metadata": {
  "kernelspec": {
   "display_name": "eBay_venv",
   "language": "python",
   "name": "python3"
  },
  "language_info": {
   "codemirror_mode": {
    "name": "ipython",
    "version": 3
   },
   "file_extension": ".py",
   "mimetype": "text/x-python",
   "name": "python",
   "nbconvert_exporter": "python",
   "pygments_lexer": "ipython3",
   "version": "3.11.3"
  }
 },
 "nbformat": 4,
 "nbformat_minor": 2
}
